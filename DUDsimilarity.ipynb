{
 "cells": [
  {
   "cell_type": "code",
   "execution_count": 87,
   "metadata": {},
   "outputs": [],
   "source": [
    "from rdkit import Chem \n",
    "from rdkit.Chem import Draw \n",
    "from ipywidgets import interact, interactive, fixed # For interactive display of conformers\n",
    "from espsim import EmbedAlignConstrainedScore, EmbedAlignScore, ConstrainedEmbedMultipleConfs, GetEspSim, GetShapeSim \n",
    "import pandas as pd \n",
    "import matplotlib.pyplot as plt # For making scatter plots \n",
    "import numpy as np # editing plots and coefficient correlation \n",
    "import scipy.stats as ss # For ranking data \n",
    "from scipy.stats import spearmanr \n",
    "from sklearn.metrics import roc_curve\n",
    "from sklearn.metrics import roc_auc_score"
   ]
  },
  {
   "cell_type": "code",
   "execution_count": null,
   "metadata": {},
   "outputs": [],
   "source": [
    "# Opening active file \n",
    "refSmiles_ac = pd.read_csv('/Users/yada/Documents/UCL/Dissertation/benchmarking_platform-master/compounds/DUD/cmp_list_DUD_ace_actives.dat', sep='\\t', usecols=['# Mol_Title', 'ID', 'SMILES']) \n",
    "# Opening decoy file \n",
    "refSmiles_dc = pd.read_csv('/Users/yada/Documents/UCL/Dissertation/benchmarking_platform-master/compounds/DUD/cmp_list_DUD_ace_decoys_yada.csv', sep='\\t', usecols=['# Mol_Title', 'ID', 'SMILES']) #create dataframe by moving from .dat to .csv\n",
    "\n",
    "# Identifying which smiles are active or decoy \n",
    "refSmiles_ac['Active_NotActive'] = 1\n",
    "refSmiles_dc['Active_NotActive']=0\n",
    "\n",
    "# Combining two files together \n",
    "# Putting the acitve and decoy files together \n",
    "newsmiles = pd.concat([refSmiles_ac,refSmiles_dc], ignore_index=True)\n",
    "# Removing duplicates \n",
    "newlist = newsmiles.drop_duplicates(subset='SMILES', keep='first')\n",
    "# Adding Hydrogens to the smile strings to allow alingment and calculations \n",
    "refMols=[Chem.AddHs(Chem.MolFromSmiles(x)) for x in newlist[\"SMILES\"]]\n"
   ]
  },
  {
   "cell_type": "code",
   "execution_count": null,
   "metadata": {},
   "outputs": [],
   "source": [
    "# Take the first 10 molecules as probe molecules \n",
    "\n",
    "prbMol = []\n",
    "prbSmile = newlist['SMILES'][:2]\n",
    "for i in prbSmile:\n",
    "    prbSmileH=Chem.AddHs(Chem.MolFromSmiles(i)) \n",
    "    prbMol.append(prbSmileH)"
   ]
  },
  {
   "cell_type": "code",
   "execution_count": null,
   "metadata": {},
   "outputs": [],
   "source": [
    "count = 1 \n",
    "\n",
    "for i in prbMol:\n",
    "    simShape,simEsp=EmbedAlignScore(i,refMols,getBestESP=False,prbNumConfs = 10,refNumConfs = 10,prbCharge = [],refCharges = [],metric = \"carbo\",integrate = \"gauss\",partialCharges = \"gasteiger\") \n",
    "    \n",
    "    # adding parameters into csv file \n",
    "    data = {'Mol_Title':newsmiles['# Mol_Title'],'ID':newsmiles['ID'],'Smiles':newsmiles['SMILES'],'Shape':simShape,'ESP':simEsp,'Active_NotActive':newsmiles['Active_NotActive']}\n",
    "    newfile = pd.DataFrame(data)\n",
    "    \n",
    "    # Adding new column for average values of simShape and simEsp\n",
    "    newfile['Average'] = newfile[['Shape','ESP']].mean(axis=1)\n",
    "    newfile.to_csv('/Users/yada/Documents/UCL/Dissertation/Benchmarking notebooks/DUD Results/ace/TestDUD_FalseESP'+str(count)+'.csv')\n",
    "    \n",
    "    count = count + 1"
   ]
  },
  {
   "cell_type": "code",
   "execution_count": 76,
   "metadata": {},
   "outputs": [],
   "source": [
    "\n",
    "rocshapelist = []\n",
    "rocesplist = []\n",
    "rocavrlist = []\n",
    "\n",
    "for i in range(1,11):\n",
    "    file = pd.read_csv('/Users/yada/Documents/similarityDUD'+str(i)+'.csv')\n",
    "\n",
    "# calculate AUC\n",
    "    auc = roc_auc_score(file['Active_NotActive'],file['Shape'])\n",
    "    rocshapelist.append(auc)\n",
    "    auc = roc_auc_score(file['Active_NotActive'],file['ESP']) # better distinguising the difference between decoy and acitve - bigger value = more tpr than fpr\n",
    "    rocesplist.append(auc)\n",
    "    auc = roc_auc_score(file['Active_NotActive'],file['Average'])\n",
    "    rocavrlist.append(auc)\n",
    "\n",
    "data = {'Smiles':prbSmile,'ROC Shape':rocshapelist,'ROC ESP':rocesplist,'ROC Average':rocavrlist}\n",
    "newfile = pd.DataFrame(data)\n",
    "newfile.to_csv('/Users/yada/Documents/UCL/Dissertation/Benchmarking notebooks/DUD Results/ace/aceROCscores_False.csv')"
   ]
  },
  {
   "cell_type": "code",
   "execution_count": 77,
   "metadata": {},
   "outputs": [
    {
     "name": "stdout",
     "output_type": "stream",
     "text": [
      "0.6618899486782222\n",
      "0.7380918950324393\n",
      "0.6618899486782222\n"
     ]
    }
   ],
   "source": [
    "# Calculating the average \n",
    "\n",
    "avrShape = newfile['ROC Shape'].mean()\n",
    "print (avrShape)\n",
    "\n",
    "avrEsp = newfile['ROC ESP'].mean()\n",
    "print (avrEsp)\n",
    "\n",
    "avrShapeEsp = newfile['ROC Average'].mean()\n",
    "print (avrShape)"
   ]
  },
  {
   "cell_type": "code",
   "execution_count": 86,
   "metadata": {},
   "outputs": [
    {
     "name": "stdout",
     "output_type": "stream",
     "text": [
      "0.05042765745310136\n",
      "0.02018765348209005\n",
      "0.030555078541217265\n"
     ]
    }
   ],
   "source": [
    "# calculating standard deviation \n",
    "\n",
    "stanShape = np.std(newfile['ROC Shape'])\n",
    "print (stanShape)\n",
    "\n",
    "stanEsp = np.std(newfile['ROC ESP'])\n",
    "print (stanEsp)\n",
    "\n",
    "stanAvr = np.std(newfile['ROC Average'])\n",
    "print (stanAvr)"
   ]
  },
  {
   "cell_type": "code",
   "execution_count": 82,
   "metadata": {},
   "outputs": [
    {
     "data": {
      "image/png": "[encoded data removed]",
      "text/plain": [
       "<Figure size 432x288 with 1 Axes>"
      ]
     },
     "metadata": {
      "needs_background": "light"
     },
     "output_type": "display_data"
    }
   ],
   "source": [
    "# Shape similairty roc curve \n",
    "fpr, tpr, _ = roc_curve(newlist['Active_NotActive'],simShape)\n",
    "\n",
    "plt.plot(fpr,tpr)\n",
    "plt.ylabel('True Positive Rate')\n",
    "plt.xlabel('False Positive Rate')\n",
    "plt.show()  "
   ]
  },
  {
   "cell_type": "code",
   "execution_count": 83,
   "metadata": {},
   "outputs": [
    {
     "data": {
      "image/png": "[encoded data removed]",
      "text/plain": [
       "<Figure size 432x288 with 1 Axes>"
      ]
     },
     "metadata": {
      "needs_background": "light"
     },
     "output_type": "display_data"
    }
   ],
   "source": [
    "# Partial charges similairty roc curve \n",
    "fpr, tpr, _ = roc_curve(newlist['Active_NotActive'],simEsp)\n",
    "\n",
    "#create ROC curve\n",
    "plt.plot(fpr,tpr)\n",
    "plt.ylabel('True Positive Rate')\n",
    "plt.xlabel('False Positive Rate')\n",
    "plt.show() "
   ]
  },
  {
   "cell_type": "code",
   "execution_count": 84,
   "metadata": {},
   "outputs": [
    {
     "data": {
      "image/png": "[encoded data removed]",
      "text/plain": [
       "<Figure size 432x288 with 1 Axes>"
      ]
     },
     "metadata": {
      "needs_background": "light"
     },
     "output_type": "display_data"
    }
   ],
   "source": [
    "# Averages of shape and ESP similairty roc curve \n",
    "\n",
    "fpr, tpr, _ = roc_curve(newlist['Active_NotActive'],avrlist)\n",
    "plt.plot(fpr,tpr)\n",
    "plt.ylabel('True Positive Rate')\n",
    "plt.xlabel('False Positive Rate')\n",
    "plt.show() "
   ]
  }
 ],
 "metadata": {
  "interpreter": {
   "hash": "0e806980a96ec610e5e424ce94ba6b238624e71736b977c07b8ca8ae569c142e"
  },
  "kernelspec": {
   "display_name": "Python 3.7.12 ('espsim')",
   "language": "python",
   "name": "python3"
  },
  "language_info": {
   "codemirror_mode": {
    "name": "ipython",
    "version": 3
   },
   "file_extension": ".py",
   "mimetype": "text/x-python",
   "name": "python",
   "nbconvert_exporter": "python",
   "pygments_lexer": "ipython3",
   "version": "3.7.12"
  },
  "orig_nbformat": 4
 },
 "nbformat": 4,
 "nbformat_minor": 2
}
