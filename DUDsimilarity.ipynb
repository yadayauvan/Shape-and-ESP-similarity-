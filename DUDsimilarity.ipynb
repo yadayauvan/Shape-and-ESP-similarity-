{
 "cells": [
  {
   "cell_type": "markdown",
   "metadata": {},
   "source": [
    "CODE OVERVIEW:\n",
    "\n",
    "- Calculates the similarity with respect to shape and charges of the molecules targeting various proteins \n",
    "- ESP calculation uses getbest=False parameter - meaning each molecules are aligned via shape and aligned again via charges \n",
    "- Molecules are provided in the DUD folder \n",
    "- ROC scores are calculated to test the performance of the ML model \n",
    "\n",
    "INSTRUCTIONS BEFORE RUNNING CODE \n",
    "- Unzip files of all actives and decoys molecules in the DUD file "
   ]
  },
  {
   "cell_type": "code",
   "execution_count": 122,
   "metadata": {},
   "outputs": [],
   "source": [
    "from rdkit import Chem \n",
    "from rdkit.Chem import Draw \n",
    "from ipywidgets import interact, interactive, fixed # For interactive display of conformers\n",
    "from espsim import EmbedAlignConstrainedScore, EmbedAlignScore, ConstrainedEmbedMultipleConfs, GetEspSim, GetShapeSim \n",
    "import pandas as pd \n",
    "import matplotlib.pyplot as plt # For making scatter plots \n",
    "import numpy as np # editing plots and coefficient correlation \n",
    "import scipy.stats as ss # For ranking data \n",
    "from scipy.stats import spearmanr \n",
    "from sklearn.metrics import roc_curve\n",
    "from sklearn.metrics import roc_auc_score\n",
    "import os "
   ]
  },
  {
   "cell_type": "code",
   "execution_count": null,
   "metadata": {},
   "outputs": [],
   "source": [
    "# List of all of the names of files the code will open \n",
    "targets=['ace','ache','ar','cdk2','cox2','dhfr','egfr','er_agonist','fgfr1','fxa','gpb','gr','hivrt','inha','na','p38','parp','pdgfrb','sahh','src','vegfr2'] \n",
    "\n",
    "for t in targets:\n",
    "\n",
    "    # Opening active file \n",
    "    refSmiles_ac = pd.read_csv('/Users/yada/Documents/UCL/Dissertation/benchmarking_platform-master/compounds/DUD/cmp_list_DUD_' + str(t)+'_actives.dat', sep='\\t', usecols=['# Mol_Title', 'ID', 'SMILES']) \n",
    "    # Opening decoy file \n",
    "    refSmiles_dc = pd.read_csv('/Users/yada/Documents/UCL/Dissertation/benchmarking_platform-master/compounds/DUD/cmp_list_DUD_' + str(t)+'_decoys.dat', sep='\\t', usecols=['# Mol_Title', 'ID', 'SMILES'])\n",
    "\n",
    "    # Identifying which smiles are active or decoy \n",
    "    refSmiles_ac['Active_NotActive'] = 1\n",
    "    refSmiles_dc['Active_NotActive']=0\n",
    "\n",
    "    # Combining the acitve and decoy files together \n",
    "    newlist = pd.concat([refSmiles_ac, refSmiles_dc], ignore_index=True)\n",
    "    # Adding Hydrogens to the smile strings to allow alingment and calculations \n",
    "    refMols=[Chem.AddHs(Chem.MolFromSmiles(x)) for x in newlist[\"SMILES\"]]\n",
    "    \n",
    "    # PROBE MOLECULE\n",
    "    # Take the first 10 molecules of the file as probe molecules \n",
    "    prbMol = []\n",
    "    prbSmile = newlist['SMILES'][:10]\n",
    "    for i in prbSmile:\n",
    "        prbSmileH=Chem.AddHs(Chem.MolFromSmiles(i)) \n",
    "        prbMol.append(prbSmileH)\n",
    "\n",
    "    # Creating directory\n",
    "    dir = '/Users/yada/Documents/UCL/Dissertation/Benchmarking notebooks/DUD Results/'+str(t)\n",
    "    if not os.path.exists(dir):\n",
    "        os.mkdir(dir)\n",
    "\n",
    "        \n",
    "    # SIMILARITY CALCULATIONS \n",
    "    rocshapelist = []\n",
    "    rocesplist = []\n",
    "    rocavrlist = []\n",
    "    \n",
    "    count = 1 \n",
    "\n",
    "    for i in prbMol:\n",
    "        simShape,simEsp=EmbedAlignScore(i,refMols,getBestESP=False,prbNumConfs = 10,refNumConfs = 10,prbCharge = [],refCharges = [],metric = \"carbo\",integrate = \"gauss\",partialCharges = \"gasteiger\") \n",
    "    \n",
    "        # adding parameters into csv file \n",
    "        data = {'Mol_Title':newlist['# Mol_Title'],'ID':newlist['ID'],'Smiles':newlist['SMILES'],'Shape':simShape,'ESP':simEsp,'Active_NotActive':newlist['Active_NotActive']}\n",
    "        newfile = pd.DataFrame(data)\n",
    "    \n",
    "        # Adding new column for average values of simShape and simEsp\n",
    "        newfile['Average'] = newfile[['Shape','ESP']].mean(axis=1)\n",
    "        newfile.to_csv(str(dir) +'/TestDUD_FalseESP'+str(count)+'.csv')\n",
    "    \n",
    "        count = count + 1\n",
    "    \n",
    "            \n",
    "\n",
    "        # calculate ROC AUC score for Shape, ESP and Average of the two \n",
    "        auc = roc_auc_score(newfile['Active_NotActive'], newfile['Shape'])\n",
    "        rocshapelist.append(auc)\n",
    "        auc = roc_auc_score(newfile['Active_NotActive'],newfile['ESP']) \n",
    "        rocesplist.append(auc)\n",
    "        auc = roc_auc_score(newfile['Active_NotActive'],newfile['Average'])\n",
    "        rocavrlist.append(auc) \n",
    "\n",
    "    data = {'ROC Shape':rocshapelist,'ROC ESP':rocesplist,'ROC Average':rocavrlist}\n",
    "    newfileroc = pd.DataFrame(data)\n",
    "    newfileroc.to_csv(str(dir) + '/ROCscores.csv')"
   ]
  },
  {
   "cell_type": "code",
   "execution_count": null,
   "metadata": {},
   "outputs": [],
   "source": [
    "# AVERAGE AND STANDARD DEVIATION OF ALL EXISTING ROC SCORES \n",
    "\n",
    "shapelist = []\n",
    "esplist = []\n",
    "avrlist = []\n",
    "\n",
    "for t in targets: \n",
    "    files = pd.read_csv ('/Users/yada/Documents/UCL/Dissertation/Benchmarking notebooks/DUD Results/'+str(t)+'/ROCscores.csv')\n",
    "    \n",
    "    shapelist.append (files['ROC Shape'])\n",
    "    esplist.append(files['ROC ESP'])\n",
    "    avrlist.append(files['ROC Average'])\n",
    "\n",
    "# Average calculation \n",
    "shapeavr = np.mean(shapelist)\n",
    "espavr = np.mean(esplist)\n",
    "avravr = np.mean(avrlist)\n",
    "\n",
    "# Standard deviation calculation \n",
    "stdshape = np.std(shapelist)\n",
    "stdesp = np.std(esplist)\n",
    "stdavr = np.std(avrlist)\n",
    "\n",
    "data = {'Avr ROC Shape':[shapeavr],'Avr ROC ESP':[espavr],'Avr ROC Average':[avravr],'Std Shape':[stdshape],'Std Esp':[stdesp],'Std Avr':[stdavr]}\n",
    "newfile = pd.DataFrame(data)\n",
    "newfile.to_csv('/Users/yada/Documents/UCL/Dissertation/Benchmarking notebooks/DUD Results/AvrStdResults.csv')\n",
    "    "
   ]
  },
  {
   "cell_type": "code",
   "execution_count": 123,
   "metadata": {},
   "outputs": [
    {
     "ename": "ValueError",
     "evalue": "Found input variables with inconsistent numbers of samples: [1489, 1842]",
     "output_type": "error",
     "traceback": [
      "\u001b[0;31m---------------------------------------------------------------------------\u001b[0m",
      "\u001b[0;31mValueError\u001b[0m                                Traceback (most recent call last)",
      "\u001b[0;32m/var/folders/3n/75ly94_s65bfnm64w3t1yxc80000gn/T/ipykernel_70186/688330607.py\u001b[0m in \u001b[0;36m<module>\u001b[0;34m\u001b[0m\n\u001b[1;32m      1\u001b[0m \u001b[0;31m# Shape similairty roc curve of the most recent probe molecule\u001b[0m\u001b[0;34m\u001b[0m\u001b[0;34m\u001b[0m\u001b[0;34m\u001b[0m\u001b[0m\n\u001b[0;32m----> 2\u001b[0;31m \u001b[0mfpr\u001b[0m\u001b[0;34m,\u001b[0m \u001b[0mtpr\u001b[0m\u001b[0;34m,\u001b[0m \u001b[0m_\u001b[0m \u001b[0;34m=\u001b[0m \u001b[0mroc_curve\u001b[0m\u001b[0;34m(\u001b[0m\u001b[0mnewlist\u001b[0m\u001b[0;34m[\u001b[0m\u001b[0;34m'Active_NotActive'\u001b[0m\u001b[0;34m]\u001b[0m\u001b[0;34m,\u001b[0m\u001b[0msimShape\u001b[0m\u001b[0;34m)\u001b[0m\u001b[0;34m\u001b[0m\u001b[0;34m\u001b[0m\u001b[0m\n\u001b[0m\u001b[1;32m      3\u001b[0m \u001b[0;34m\u001b[0m\u001b[0m\n\u001b[1;32m      4\u001b[0m \u001b[0mplt\u001b[0m\u001b[0;34m.\u001b[0m\u001b[0mplot\u001b[0m\u001b[0;34m(\u001b[0m\u001b[0mfpr\u001b[0m\u001b[0;34m,\u001b[0m\u001b[0mtpr\u001b[0m\u001b[0;34m)\u001b[0m\u001b[0;34m\u001b[0m\u001b[0;34m\u001b[0m\u001b[0m\n\u001b[1;32m      5\u001b[0m \u001b[0mplt\u001b[0m\u001b[0;34m.\u001b[0m\u001b[0mtitle\u001b[0m\u001b[0;34m(\u001b[0m\u001b[0;34m'ROC AUC curce of Shape similarity'\u001b[0m\u001b[0;34m)\u001b[0m\u001b[0;34m\u001b[0m\u001b[0;34m\u001b[0m\u001b[0m\n",
      "\u001b[0;32m/usr/local/anaconda3/envs/espsim/lib//python3.7/site-packages/sklearn/metrics/_ranking.py\u001b[0m in \u001b[0;36mroc_curve\u001b[0;34m(y_true, y_score, pos_label, sample_weight, drop_intermediate)\u001b[0m\n\u001b[1;32m    961\u001b[0m     \"\"\"\n\u001b[1;32m    962\u001b[0m     fps, tps, thresholds = _binary_clf_curve(\n\u001b[0;32m--> 963\u001b[0;31m         \u001b[0my_true\u001b[0m\u001b[0;34m,\u001b[0m \u001b[0my_score\u001b[0m\u001b[0;34m,\u001b[0m \u001b[0mpos_label\u001b[0m\u001b[0;34m=\u001b[0m\u001b[0mpos_label\u001b[0m\u001b[0;34m,\u001b[0m \u001b[0msample_weight\u001b[0m\u001b[0;34m=\u001b[0m\u001b[0msample_weight\u001b[0m\u001b[0;34m\u001b[0m\u001b[0;34m\u001b[0m\u001b[0m\n\u001b[0m\u001b[1;32m    964\u001b[0m     )\n\u001b[1;32m    965\u001b[0m \u001b[0;34m\u001b[0m\u001b[0m\n",
      "\u001b[0;32m/usr/local/anaconda3/envs/espsim/lib//python3.7/site-packages/sklearn/metrics/_ranking.py\u001b[0m in \u001b[0;36m_binary_clf_curve\u001b[0;34m(y_true, y_score, pos_label, sample_weight)\u001b[0m\n\u001b[1;32m    731\u001b[0m         \u001b[0;32mraise\u001b[0m \u001b[0mValueError\u001b[0m\u001b[0;34m(\u001b[0m\u001b[0;34m\"{0} format is not supported\"\u001b[0m\u001b[0;34m.\u001b[0m\u001b[0mformat\u001b[0m\u001b[0;34m(\u001b[0m\u001b[0my_type\u001b[0m\u001b[0;34m)\u001b[0m\u001b[0;34m)\u001b[0m\u001b[0;34m\u001b[0m\u001b[0;34m\u001b[0m\u001b[0m\n\u001b[1;32m    732\u001b[0m \u001b[0;34m\u001b[0m\u001b[0m\n\u001b[0;32m--> 733\u001b[0;31m     \u001b[0mcheck_consistent_length\u001b[0m\u001b[0;34m(\u001b[0m\u001b[0my_true\u001b[0m\u001b[0;34m,\u001b[0m \u001b[0my_score\u001b[0m\u001b[0;34m,\u001b[0m \u001b[0msample_weight\u001b[0m\u001b[0;34m)\u001b[0m\u001b[0;34m\u001b[0m\u001b[0;34m\u001b[0m\u001b[0m\n\u001b[0m\u001b[1;32m    734\u001b[0m     \u001b[0my_true\u001b[0m \u001b[0;34m=\u001b[0m \u001b[0mcolumn_or_1d\u001b[0m\u001b[0;34m(\u001b[0m\u001b[0my_true\u001b[0m\u001b[0;34m)\u001b[0m\u001b[0;34m\u001b[0m\u001b[0;34m\u001b[0m\u001b[0m\n\u001b[1;32m    735\u001b[0m     \u001b[0my_score\u001b[0m \u001b[0;34m=\u001b[0m \u001b[0mcolumn_or_1d\u001b[0m\u001b[0;34m(\u001b[0m\u001b[0my_score\u001b[0m\u001b[0;34m)\u001b[0m\u001b[0;34m\u001b[0m\u001b[0;34m\u001b[0m\u001b[0m\n",
      "\u001b[0;32m/usr/local/anaconda3/envs/espsim/lib//python3.7/site-packages/sklearn/utils/validation.py\u001b[0m in \u001b[0;36mcheck_consistent_length\u001b[0;34m(*arrays)\u001b[0m\n\u001b[1;32m    332\u001b[0m         raise ValueError(\n\u001b[1;32m    333\u001b[0m             \u001b[0;34m\"Found input variables with inconsistent numbers of samples: %r\"\u001b[0m\u001b[0;34m\u001b[0m\u001b[0;34m\u001b[0m\u001b[0m\n\u001b[0;32m--> 334\u001b[0;31m             \u001b[0;34m%\u001b[0m \u001b[0;34m[\u001b[0m\u001b[0mint\u001b[0m\u001b[0;34m(\u001b[0m\u001b[0ml\u001b[0m\u001b[0;34m)\u001b[0m \u001b[0;32mfor\u001b[0m \u001b[0ml\u001b[0m \u001b[0;32min\u001b[0m \u001b[0mlengths\u001b[0m\u001b[0;34m]\u001b[0m\u001b[0;34m\u001b[0m\u001b[0;34m\u001b[0m\u001b[0m\n\u001b[0m\u001b[1;32m    335\u001b[0m         )\n\u001b[1;32m    336\u001b[0m \u001b[0;34m\u001b[0m\u001b[0m\n",
      "\u001b[0;31mValueError\u001b[0m: Found input variables with inconsistent numbers of samples: [1489, 1842]"
     ]
    }
   ],
   "source": [
    "# Shape similairty roc curve of the most recent probe molecule\n",
    "fpr, tpr, _ = roc_curve(newlist['Active_NotActive'],simShape)\n",
    "plt.plot(fpr,tpr)\n",
    "plt.title('ROC AUC curce of shape similarity')\n",
    "plt.ylabel('True Positive Rate')\n",
    "plt.xlabel('False Positive Rate')\n",
    "plt.show()  "
   ]
  },
  {
   "cell_type": "code",
   "execution_count": 83,
   "metadata": {},
   "outputs": [
    {
     "data": {
      "image/png": "[encoded data removed]",
      "text/plain": [
       "<Figure size 432x288 with 1 Axes>"
      ]
     },
     "metadata": {
      "needs_background": "light"
     },
     "output_type": "display_data"
    }
   ],
   "source": [
    "# Partial charges similairty roc curve of the most recent probe molecule \n",
    "fpr, tpr, _ = roc_curve(newlist['Active_NotActive'],simEsp)\n",
    "plt.plot(fpr,tpr)\n",
    "plt.title('ROC AUC curve for ESP similarity')\n",
    "plt.ylabel('True Positive Rate')\n",
    "plt.xlabel('False Positive Rate')\n",
    "plt.show() "
   ]
  },
  {
   "cell_type": "code",
   "execution_count": 84,
   "metadata": {},
   "outputs": [
    {
     "data": {
      "image/png": "[encoded data removed]",
      "text/plain": [
       "<Figure size 432x288 with 1 Axes>"
      ]
     },
     "metadata": {
      "needs_background": "light"
     },
     "output_type": "display_data"
    }
   ],
   "source": [
    "# Partial charges similairty roc curve of the most recent probe molecule \n",
    "fpr, tpr, _ = roc_curve(newlist['Active_NotActive'],avrlist)\n",
    "plt.plot(fpr,tpr)\n",
    "plt.title('ROC AUC curve for the average of shape and ESP similarity')\n",
    "plt.ylabel('True Positive Rate')\n",
    "plt.xlabel('False Positive Rate')\n",
    "plt.show() "
   ]
  }
 ],
 "metadata": {
  "interpreter": {
   "hash": "0e806980a96ec610e5e424ce94ba6b238624e71736b977c07b8ca8ae569c142e"
  },
  "kernelspec": {
   "display_name": "Python 3.7.12 ('espsim')",
   "language": "python",
   "name": "python3"
  },
  "language_info": {
   "codemirror_mode": {
    "name": "ipython",
    "version": 3
   },
   "file_extension": ".py",
   "mimetype": "text/x-python",
   "name": "python",
   "nbconvert_exporter": "python",
   "pygments_lexer": "ipython3",
   "version": "3.7.12"
  },
  "orig_nbformat": 4
 },
 "nbformat": 4,
 "nbformat_minor": 2
}
