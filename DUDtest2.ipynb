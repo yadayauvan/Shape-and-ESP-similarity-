{
 "cells": [
  {
   "cell_type": "code",
   "execution_count": 2,
   "metadata": {},
   "outputs": [],
   "source": [
    "from rdkit import Chem \n",
    "from rdkit.Chem import Draw \n",
    "from ipywidgets import interact, interactive, fixed # For interactive display of conformers\n",
    "from espsim import EmbedAlignConstrainedScore, EmbedAlignScore, ConstrainedEmbedMultipleConfs, GetEspSim, GetShapeSim \n",
    "import pandas as pd \n",
    "import matplotlib.pyplot as plt # For making scatter plots \n",
    "import numpy as np # editing plots and coefficient correlation \n",
    "import scipy.stats as ss # For ranking data \n",
    "from scipy.stats import spearmanr \n",
    "from sklearn.metrics import roc_curve\n",
    "from sklearn.metrics import roc_auc_score\n",
    "import os "
   ]
  },
  {
   "cell_type": "code",
   "execution_count": 6,
   "metadata": {},
   "outputs": [
    {
     "name": "stdout",
     "output_type": "stream",
     "text": [
      "hello\n",
      "0.9632000000000001\n",
      "hello\n",
      "0.9472\n",
      "hello\n",
      "0.6032\n",
      "hello\n",
      "0.8224\n",
      "hello\n",
      "0.9935999999999999\n",
      "hello\n",
      "0.9888\n",
      "hello\n",
      "0.7936000000000001\n",
      "hello\n",
      "0.8\n"
     ]
    }
   ],
   "source": [
    "targets=['ace','ache','ar','cdk2'] #list the different targets in DUD folder \n",
    "\n",
    "for t in targets:\n",
    "\n",
    "    # Opening active file \n",
    "    refSmiles_ac = pd.read_csv('/Users/yada/Documents/UCL/Dissertation/benchmarking_platform-master/compounds/DUD/cmp_list_DUD_' + str(t)+'_actives.dat', sep='\\t', usecols=['# Mol_Title', 'ID', 'SMILES']) \n",
    "    # Opening decoy file \n",
    "    refSmiles_dc = pd.read_csv('/Users/yada/Documents/UCL/Dissertation/benchmarking_platform-master/compounds/DUD/cmp_list_DUD_' + str(t)+'_decoys.dat', sep='\\t', usecols=['# Mol_Title', 'ID', 'SMILES']) #create dataframe by moving from .dat to .csv\n",
    "\n",
    "    # Identifying which smiles are active or decoy \n",
    "    refSmiles_ac['Active_NotActive'] = 1\n",
    "    refSmiles_dc['Active_NotActive']=0\n",
    "\n",
    "    #### temporary list \n",
    "    tmpac = refSmiles_ac[0:25]\n",
    "    tmpdc = refSmiles_dc[0:25]\n",
    "\n",
    "    # Combining two files together \n",
    "    # Putting the acitve and decoy files together \n",
    "    newlist = pd.concat([tmpac, tmpdc], ignore_index=True)\n",
    "    # Adding Hydrogens to the smile strings to allow alingment and calculations \n",
    "    refMols=[Chem.AddHs(Chem.MolFromSmiles(x)) for x in newlist[\"SMILES\"]]\n",
    "\n",
    "    \n",
    "    # TEMPORARY LIST \n",
    "    tmplist = newlist[0:50]\n",
    "    tmpMols = refMols[0:50]\n",
    "\n",
    "\n",
    "   # Take the first 2 molecules as probe molecules \n",
    "    prbMol = []\n",
    "    prbSmile = tmplist['SMILES'][:2]\n",
    "    for i in prbSmile:\n",
    "        prbSmileH=Chem.AddHs(Chem.MolFromSmiles(i)) \n",
    "        prbMol.append(prbSmileH)\n",
    "\n",
    "\n",
    "    count = 1 \n",
    "\n",
    "    # Creating directory\n",
    "    dir = '/Users/yada/Documents/UCL/Dissertation/Benchmarking notebooks/DUD Results/'+str(t)\n",
    "    if not os.path.exists(dir):\n",
    "        os.mkdir(dir)\n",
    "        \n",
    "    rocshapelist = []\n",
    "    rocesplist = []\n",
    "    rocavrlist = []\n",
    "        \n",
    "    for i in prbMol:\n",
    "        simShape,simEsp=EmbedAlignScore(i,tmpMols,getBestESP=False,prbNumConfs = 10,refNumConfs = 10,prbCharge = [],refCharges = [],metric = \"carbo\",integrate = \"gauss\",partialCharges = \"gasteiger\") \n",
    "    \n",
    "        # adding parameters into csv file \n",
    "        data = {'Mol_Title':tmplist['# Mol_Title'],'ID':tmplist['ID'],'Smiles':tmplist['SMILES'],'Shape':simShape,'ESP':simEsp,'Active_NotActive':tmplist['Active_NotActive']}\n",
    "        newfile = pd.DataFrame(data)\n",
    "    \n",
    "        # Adding new column for average values of simShape and simEsp\n",
    "        newfile['Average'] = newfile[['Shape','ESP']].mean(axis=1)\n",
    "        newfile.to_csv(str(dir) +'/TestDUD_FalseESP'+str(count)+'.csv')\n",
    "    \n",
    "        count = count + 1\n",
    "    \n",
    "            \n",
    "\n",
    "        # calculate AUC\n",
    "        auc = roc_auc_score(newfile['Active_NotActive'], newfile['Shape'])\n",
    "        print (auc)\n",
    "        rocshapelist.append(auc)\n",
    "\n",
    "        auc = roc_auc_score(newfile['Active_NotActive'],newfile['ESP']) # better distinguising the difference between decoy and acitve - bigger value = more tpr than fpr\n",
    "        rocesplist.append(auc)\n",
    "        auc = roc_auc_score(newfile['Active_NotActive'],newfile['Average'])\n",
    "        rocavrlist.append(auc) \n",
    "\n",
    "    data = {'Smiles':prbSmile,'ROC Shape':rocshapelist,'ROC ESP':rocesplist,'ROC Average':rocavrlist}\n",
    "    newfileroc = pd.DataFrame(data)\n",
    "    newfileroc.to_csv(str(dir) + '/ROCscores.csv')"
   ]
  },
  {
   "cell_type": "code",
   "execution_count": 4,
   "metadata": {},
   "outputs": [
    {
     "name": "stdout",
     "output_type": "stream",
     "text": [
      "2 1 1 1\n"
     ]
    }
   ],
   "source": [
    "print (len(prbSmile),len(rocshapelist),len(rocesplist),len(rocavrlist))"
   ]
  },
  {
   "cell_type": "code",
   "execution_count": 9,
   "metadata": {},
   "outputs": [],
   "source": [
    "shapelist = []\n",
    "esplist = []\n",
    "avrlist = []\n",
    "\n",
    "for t in targets: \n",
    "    files = pd.read_csv ('/Users/yada/Documents/UCL/Dissertation/Benchmarking notebooks/DUD Results/'+str(t)+'/ROCscores.csv')\n",
    "\n",
    "    \n",
    "    \n",
    "    shapelist.append (files['ROC Shape'])\n",
    "    esplist.append(files['ROC ESP'])\n",
    "    avrlist.append(files['ROC Average'])\n",
    "\n",
    "shapeavr = np.mean(shapelist)\n",
    "espavr = np.mean(esplist)\n",
    "avravr = np.mean(avrlist)\n",
    "\n",
    "stdshape = np.std(shapelist)\n",
    "stdesp = np.std(esplist)\n",
    "stdavr = np.std(avrlist)\n",
    "\n",
    "data = {'Avr ROC Shape':[shapeavr],'Avr ROC ESP':[espavr],'Avr ROC Average':[avravr],'Std Shape':[stdshape],'Std Esp':[stdesp],'Std Avr':[stdavr]}\n",
    "newfile = pd.DataFrame(data)\n",
    "newfile.to_csv('/Users/yada/Documents/UCL/Dissertation/Benchmarking notebooks/DUD Results/AvrStdResults.csv')\n",
    "    "
   ]
  }
 ],
 "metadata": {
  "interpreter": {
   "hash": "0e806980a96ec610e5e424ce94ba6b238624e71736b977c07b8ca8ae569c142e"
  },
  "kernelspec": {
   "display_name": "Python 3.7.12 ('espsim')",
   "language": "python",
   "name": "python3"
  },
  "language_info": {
   "codemirror_mode": {
    "name": "ipython",
    "version": 3
   },
   "file_extension": ".py",
   "mimetype": "text/x-python",
   "name": "python",
   "nbconvert_exporter": "python",
   "pygments_lexer": "ipython3",
   "version": "3.7.12"
  },
  "orig_nbformat": 4
 },
 "nbformat": 4,
 "nbformat_minor": 2
}
